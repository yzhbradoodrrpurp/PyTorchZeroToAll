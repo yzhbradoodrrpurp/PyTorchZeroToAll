{
 "cells": [
  {
   "metadata": {},
   "cell_type": "markdown",
   "source": "首先导入 `torch` 。虽然它被称为PyTorch，但是应该导入 `torch` 而不是 `pytorch` 。",
   "id": "8f1e9ad2c542a326"
  },
  {
   "cell_type": "code",
   "id": "initial_id",
   "metadata": {
    "collapsed": true,
    "ExecuteTime": {
     "end_time": "2025-01-27T02:19:13.373734Z",
     "start_time": "2025-01-27T02:19:13.364725Z"
    }
   },
   "source": "import torch",
   "outputs": [],
   "execution_count": 15
  },
  {
   "metadata": {},
   "cell_type": "markdown",
   "source": "张量 (Torch) 表示一个数值组成的数组，这个数组可能有很多维度。`torch.arange` 表示生成一个0～11的数组，和 `numpy.arange` 相同。",
   "id": "e266a1f658bd6e36"
  },
  {
   "metadata": {
    "ExecuteTime": {
     "end_time": "2025-01-27T02:19:13.409755Z",
     "start_time": "2025-01-27T02:19:13.376893Z"
    }
   },
   "cell_type": "code",
   "source": [
    "x = torch.arange(12)\n",
    "print(x)"
   ],
   "id": "4c84af5483284be3",
   "outputs": [
    {
     "name": "stdout",
     "output_type": "stream",
     "text": [
      "tensor([ 0,  1,  2,  3,  4,  5,  6,  7,  8,  9, 10, 11])\n"
     ]
    }
   ],
   "execution_count": 16
  },
  {
   "metadata": {},
   "cell_type": "markdown",
   "source": [
    "- 可以用 `shape` 属性访问张量的形状、维度\n",
    "- 可以用 `numel` 方法访问张量的元素总数"
   ],
   "id": "93921139c32fbeff"
  },
  {
   "metadata": {},
   "cell_type": "markdown",
   "source": "使用 `torch.tensor` 传入一个列表/元组/ndarray等等，创建一个张量，和 `numpy.array` 一样。",
   "id": "f2212df5b31f01bb"
  },
  {
   "metadata": {
    "ExecuteTime": {
     "end_time": "2025-01-27T02:19:13.415758Z",
     "start_time": "2025-01-27T02:19:13.411242Z"
    }
   },
   "cell_type": "code",
   "source": [
    "y = torch.tensor([1,2,3,4,5,6,7,8,9,10, 11, 12])\n",
    "print(y)"
   ],
   "id": "8c19fd6c65d17868",
   "outputs": [
    {
     "name": "stdout",
     "output_type": "stream",
     "text": [
      "tensor([ 1,  2,  3,  4,  5,  6,  7,  8,  9, 10, 11, 12])\n"
     ]
    }
   ],
   "execution_count": 17
  },
  {
   "metadata": {
    "ExecuteTime": {
     "end_time": "2025-01-27T02:19:13.418706Z",
     "start_time": "2025-01-27T02:19:13.416342Z"
    }
   },
   "cell_type": "code",
   "source": [
    "print(x.shape)\n",
    "print(x.numel())"
   ],
   "id": "3437db09148eff8a",
   "outputs": [
    {
     "name": "stdout",
     "output_type": "stream",
     "text": [
      "torch.Size([12])\n",
      "12\n"
     ]
    }
   ],
   "execution_count": 18
  },
  {
   "metadata": {},
   "cell_type": "markdown",
   "source": "使用 `reshape` 方法改变一个张量的形状，用法和 `numpy.reshape` 相同。",
   "id": "17ae33141dda536b"
  },
  {
   "metadata": {
    "ExecuteTime": {
     "end_time": "2025-01-27T02:19:13.426411Z",
     "start_time": "2025-01-27T02:19:13.421237Z"
    }
   },
   "cell_type": "code",
   "source": [
    "x = x.reshape(3, 4)\n",
    "print(x)"
   ],
   "id": "712b1ae3d0eb2dbf",
   "outputs": [
    {
     "name": "stdout",
     "output_type": "stream",
     "text": [
      "tensor([[ 0,  1,  2,  3],\n",
      "        [ 4,  5,  6,  7],\n",
      "        [ 8,  9, 10, 11]])\n"
     ]
    }
   ],
   "execution_count": 19
  },
  {
   "metadata": {},
   "cell_type": "markdown",
   "source": "可以使用 `torch.zeros` 或者 `torch.ones` 创建全是0或者1的张量，使用方法和 `numpy` 中的一样。",
   "id": "47bd6a36887b7f01"
  },
  {
   "metadata": {
    "ExecuteTime": {
     "end_time": "2025-01-27T02:19:13.444771Z",
     "start_time": "2025-01-27T02:19:13.427730Z"
    }
   },
   "cell_type": "code",
   "source": [
    "# 分别创建一维，二维，三维的张量\n",
    "a = torch.zeros(3)\n",
    "print(a)\n",
    "a = torch.zeros(3, 4)\n",
    "print(a)\n",
    "a = torch.zeros(3, 4, 5)\n",
    "print(a)"
   ],
   "id": "489d22913aeabaca",
   "outputs": [
    {
     "name": "stdout",
     "output_type": "stream",
     "text": [
      "tensor([0., 0., 0.])\n",
      "tensor([[0., 0., 0., 0.],\n",
      "        [0., 0., 0., 0.],\n",
      "        [0., 0., 0., 0.]])\n",
      "tensor([[[0., 0., 0., 0., 0.],\n",
      "         [0., 0., 0., 0., 0.],\n",
      "         [0., 0., 0., 0., 0.],\n",
      "         [0., 0., 0., 0., 0.]],\n",
      "\n",
      "        [[0., 0., 0., 0., 0.],\n",
      "         [0., 0., 0., 0., 0.],\n",
      "         [0., 0., 0., 0., 0.],\n",
      "         [0., 0., 0., 0., 0.]],\n",
      "\n",
      "        [[0., 0., 0., 0., 0.],\n",
      "         [0., 0., 0., 0., 0.],\n",
      "         [0., 0., 0., 0., 0.],\n",
      "         [0., 0., 0., 0., 0.]]])\n"
     ]
    }
   ],
   "execution_count": 20
  },
  {
   "metadata": {},
   "cell_type": "markdown",
   "source": "+, -, *, / 运算和 `numpy` 中的用法都相同，按照对应位置上的元素进行运算，不再赘述。",
   "id": "4aed3b79b38ac59d"
  },
  {
   "metadata": {},
   "cell_type": "markdown",
   "source": "可以用 `T` 属性得到一个张量的转置矩阵，依然和 `numpy` 类似。",
   "id": "844e717522a90be9"
  },
  {
   "metadata": {
    "ExecuteTime": {
     "end_time": "2025-01-27T02:19:13.453040Z",
     "start_time": "2025-01-27T02:19:13.445583Z"
    }
   },
   "cell_type": "code",
   "source": [
    "a = torch.arange(0, 12).reshape(3, 4)\n",
    "print(a)\n",
    "print(a.T)"
   ],
   "id": "2662ee721a6334a6",
   "outputs": [
    {
     "name": "stdout",
     "output_type": "stream",
     "text": [
      "tensor([[ 0,  1,  2,  3],\n",
      "        [ 4,  5,  6,  7],\n",
      "        [ 8,  9, 10, 11]])\n",
      "tensor([[ 0,  4,  8],\n",
      "        [ 1,  5,  9],\n",
      "        [ 2,  6, 10],\n",
      "        [ 3,  7, 11]])\n"
     ]
    }
   ],
   "execution_count": 21
  },
  {
   "metadata": {},
   "cell_type": "markdown",
   "source": "使用 `clone` 方法对张量进行复制，区别于 在 `numpy` 中使用 `copy` 方法进行复制。",
   "id": "97e0a89698a924ec"
  },
  {
   "metadata": {
    "ExecuteTime": {
     "end_time": "2025-01-27T02:19:13.461074Z",
     "start_time": "2025-01-27T02:19:13.454562Z"
    }
   },
   "cell_type": "code",
   "source": [
    "b = a.clone()\n",
    "b = b ** 2\n",
    "print(a)\n",
    "print(b)"
   ],
   "id": "603e2e4ad10cf7b1",
   "outputs": [
    {
     "name": "stdout",
     "output_type": "stream",
     "text": [
      "tensor([[ 0,  1,  2,  3],\n",
      "        [ 4,  5,  6,  7],\n",
      "        [ 8,  9, 10, 11]])\n",
      "tensor([[  0,   1,   4,   9],\n",
      "        [ 16,  25,  36,  49],\n",
      "        [ 64,  81, 100, 121]])\n"
     ]
    }
   ],
   "execution_count": 22
  },
  {
   "metadata": {},
   "cell_type": "markdown",
   "source": "使用 `sum` 方法进行求和，可以指定按照行列进行求和。使用 `dim` 参数可以对指定的行列进行压缩，`dim=0` 将一个二维张量按照行进行压缩，`dim=1` 将一个二维张量按照列进行压缩。",
   "id": "2fac1948c1c3a0ab"
  },
  {
   "metadata": {
    "ExecuteTime": {
     "end_time": "2025-01-27T02:25:16.148674Z",
     "start_time": "2025-01-27T02:25:16.111462Z"
    }
   },
   "cell_type": "code",
   "source": [
    "print(x.shape)\n",
    "print(x)\n",
    "print(x.sum())\n",
    "print(x.sum(dim=0))\n",
    "print(x.sum(dim=1))"
   ],
   "id": "90949b0e2f89b918",
   "outputs": [
    {
     "name": "stdout",
     "output_type": "stream",
     "text": [
      "torch.Size([3, 4])\n",
      "tensor([[ 0,  1,  2,  3],\n",
      "        [ 4,  5,  6,  7],\n",
      "        [ 8,  9, 10, 11]])\n",
      "tensor(66)\n",
      "tensor([12, 15, 18, 21])\n",
      "tensor([ 6, 22, 38])\n"
     ]
    }
   ],
   "execution_count": 24
  },
  {
   "metadata": {},
   "cell_type": "code",
   "outputs": [],
   "execution_count": null,
   "source": "",
   "id": "ea61e112b4dbebd1"
  }
 ],
 "metadata": {
  "kernelspec": {
   "display_name": "Python 3",
   "language": "python",
   "name": "python3"
  },
  "language_info": {
   "codemirror_mode": {
    "name": "ipython",
    "version": 2
   },
   "file_extension": ".py",
   "mimetype": "text/x-python",
   "name": "python",
   "nbconvert_exporter": "python",
   "pygments_lexer": "ipython2",
   "version": "2.7.6"
  }
 },
 "nbformat": 4,
 "nbformat_minor": 5
}
