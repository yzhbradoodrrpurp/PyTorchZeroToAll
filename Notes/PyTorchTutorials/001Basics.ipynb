{
 "cells": [
  {
   "metadata": {},
   "cell_type": "markdown",
   "source": "首先导入 `torch` 。虽然它被称为PyTorch，但是应该导入 `torch` 而不是 `pytorch` 。",
   "id": "8f1e9ad2c542a326"
  },
  {
   "cell_type": "code",
   "id": "initial_id",
   "metadata": {
    "collapsed": true,
    "ExecuteTime": {
     "end_time": "2025-01-26T09:10:08.079625Z",
     "start_time": "2025-01-26T09:10:08.076458Z"
    }
   },
   "source": "import torch",
   "outputs": [],
   "execution_count": 14
  },
  {
   "metadata": {},
   "cell_type": "markdown",
   "source": "张量 (Torch) 表示一个数值组成的数组，这个数组可能有很多维度。`torch.arange` 表示生成一个0～11的数组，和 `numpy.arange` 相同。",
   "id": "e266a1f658bd6e36"
  },
  {
   "metadata": {
    "ExecuteTime": {
     "end_time": "2025-01-26T09:10:08.344920Z",
     "start_time": "2025-01-26T09:10:08.341488Z"
    }
   },
   "cell_type": "code",
   "source": [
    "x = torch.arange(12)\n",
    "print(x)"
   ],
   "id": "4c84af5483284be3",
   "outputs": [
    {
     "name": "stdout",
     "output_type": "stream",
     "text": [
      "tensor([ 0,  1,  2,  3,  4,  5,  6,  7,  8,  9, 10, 11])\n"
     ]
    }
   ],
   "execution_count": 15
  },
  {
   "metadata": {},
   "cell_type": "markdown",
   "source": [
    "- 可以用 `shape` 属性访问张量的形状、维度\n",
    "- 可以用 `numel` 方法访问张量的元素总数"
   ],
   "id": "93921139c32fbeff"
  },
  {
   "metadata": {},
   "cell_type": "markdown",
   "source": "使用 `torch.tensor` 传入一个列表/元组/ndarray等等，创建一个张量，和 `numpy.array` 一样。",
   "id": "f2212df5b31f01bb"
  },
  {
   "metadata": {
    "ExecuteTime": {
     "end_time": "2025-01-26T09:15:59.519040Z",
     "start_time": "2025-01-26T09:15:59.510591Z"
    }
   },
   "cell_type": "code",
   "source": [
    "y = torch.tensor([1,2,3,4,5,6,7,8,9,10, 11, 12])\n",
    "print(y)"
   ],
   "id": "8c19fd6c65d17868",
   "outputs": [
    {
     "name": "stdout",
     "output_type": "stream",
     "text": [
      "tensor([ 1,  2,  3,  4,  5,  6,  7,  8,  9, 10, 11, 12])\n"
     ]
    }
   ],
   "execution_count": 22
  },
  {
   "metadata": {
    "ExecuteTime": {
     "end_time": "2025-01-26T09:10:08.632043Z",
     "start_time": "2025-01-26T09:10:08.629785Z"
    }
   },
   "cell_type": "code",
   "source": [
    "print(x.shape)\n",
    "print(x.numel())"
   ],
   "id": "3437db09148eff8a",
   "outputs": [
    {
     "name": "stdout",
     "output_type": "stream",
     "text": [
      "torch.Size([12])\n",
      "12\n"
     ]
    }
   ],
   "execution_count": 16
  },
  {
   "metadata": {},
   "cell_type": "markdown",
   "source": "使用 `reshape` 方法改变一个张量的形状，用法和 `numpy.reshape` 相同。",
   "id": "17ae33141dda536b"
  },
  {
   "metadata": {
    "ExecuteTime": {
     "end_time": "2025-01-26T09:10:17.156667Z",
     "start_time": "2025-01-26T09:10:17.145584Z"
    }
   },
   "cell_type": "code",
   "source": [
    "x = x.reshape(3, 4)\n",
    "print(x)"
   ],
   "id": "712b1ae3d0eb2dbf",
   "outputs": [
    {
     "name": "stdout",
     "output_type": "stream",
     "text": [
      "tensor([[ 0,  1,  2,  3],\n",
      "        [ 4,  5,  6,  7],\n",
      "        [ 8,  9, 10, 11]])\n"
     ]
    }
   ],
   "execution_count": 18
  },
  {
   "metadata": {},
   "cell_type": "markdown",
   "source": "可以使用 `torch.zeros` 或者 `torch.ones` 创建全是0或者1的张量，使用方法和 `numpy` 中的一样。",
   "id": "47bd6a36887b7f01"
  },
  {
   "metadata": {
    "ExecuteTime": {
     "end_time": "2025-01-26T09:12:57.354596Z",
     "start_time": "2025-01-26T09:12:57.343327Z"
    }
   },
   "cell_type": "code",
   "source": [
    "# 分别创建一维，二维，三维的张量\n",
    "a = torch.zeros(3)\n",
    "print(a)\n",
    "a = torch.zeros(3, 4)\n",
    "print(a)\n",
    "a = torch.zeros(3, 4, 5)\n",
    "print(a)"
   ],
   "id": "489d22913aeabaca",
   "outputs": [
    {
     "name": "stdout",
     "output_type": "stream",
     "text": [
      "tensor([0., 0., 0.])\n",
      "tensor([[0., 0., 0., 0.],\n",
      "        [0., 0., 0., 0.],\n",
      "        [0., 0., 0., 0.]])\n",
      "tensor([[[0., 0., 0., 0., 0.],\n",
      "         [0., 0., 0., 0., 0.],\n",
      "         [0., 0., 0., 0., 0.],\n",
      "         [0., 0., 0., 0., 0.]],\n",
      "\n",
      "        [[0., 0., 0., 0., 0.],\n",
      "         [0., 0., 0., 0., 0.],\n",
      "         [0., 0., 0., 0., 0.],\n",
      "         [0., 0., 0., 0., 0.]],\n",
      "\n",
      "        [[0., 0., 0., 0., 0.],\n",
      "         [0., 0., 0., 0., 0.],\n",
      "         [0., 0., 0., 0., 0.],\n",
      "         [0., 0., 0., 0., 0.]]])\n"
     ]
    }
   ],
   "execution_count": 20
  },
  {
   "metadata": {},
   "cell_type": "markdown",
   "source": "+, -, *, / 运算和 `numpy` 中的用法都相同，按照对应位置上的元素进行运算，不再赘述。",
   "id": "4aed3b79b38ac59d"
  }
 ],
 "metadata": {
  "kernelspec": {
   "display_name": "Python 3",
   "language": "python",
   "name": "python3"
  },
  "language_info": {
   "codemirror_mode": {
    "name": "ipython",
    "version": 2
   },
   "file_extension": ".py",
   "mimetype": "text/x-python",
   "name": "python",
   "nbconvert_exporter": "python",
   "pygments_lexer": "ipython2",
   "version": "2.7.6"
  }
 },
 "nbformat": 4,
 "nbformat_minor": 5
}
