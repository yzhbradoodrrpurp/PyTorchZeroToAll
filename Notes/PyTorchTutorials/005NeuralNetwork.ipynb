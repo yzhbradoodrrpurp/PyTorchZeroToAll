{
 "cells": [
  {
   "metadata": {},
   "cell_type": "markdown",
   "source": "`nn` 是neural network的缩写，这个模块提供了各种构建深度学习模型的工具，比如神经网络层 (比如Linear, LSTM)、激活函数 (比如ReLU, Sigmoid)、损失函数 (MSE, Cross-Entropy Loss)等等。",
   "id": "c2dc180fffd4ae42"
  },
  {
   "cell_type": "code",
   "execution_count": null,
   "id": "initial_id",
   "metadata": {
    "collapsed": true
   },
   "outputs": [],
   "source": "from torch import nn"
  },
  {
   "metadata": {},
   "cell_type": "code",
   "outputs": [],
   "execution_count": null,
   "source": "",
   "id": "e7a07b30f631d135"
  }
 ],
 "metadata": {
  "kernelspec": {
   "display_name": "Python 3",
   "language": "python",
   "name": "python3"
  },
  "language_info": {
   "codemirror_mode": {
    "name": "ipython",
    "version": 2
   },
   "file_extension": ".py",
   "mimetype": "text/x-python",
   "name": "python",
   "nbconvert_exporter": "python",
   "pygments_lexer": "ipython2",
   "version": "2.7.6"
  }
 },
 "nbformat": 4,
 "nbformat_minor": 5
}
