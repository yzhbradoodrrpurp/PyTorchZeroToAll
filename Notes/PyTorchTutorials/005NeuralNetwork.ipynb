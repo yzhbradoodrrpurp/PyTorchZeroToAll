{
 "cells": [
  {
   "metadata": {},
   "cell_type": "markdown",
   "source": "`nn` 是neural network的缩写，这个模块提供了各种构建深度学习模型的工具，比如神经网络层 (比如Linear, LSTM)、激活函数 (比如ReLU, Sigmoid)、损失函数 (MSE, Cross-Entropy Loss)等等。",
   "id": "c2dc180fffd4ae42"
  },
  {
   "cell_type": "code",
   "id": "initial_id",
   "metadata": {
    "collapsed": true,
    "ExecuteTime": {
     "end_time": "2025-02-05T08:19:13.066143Z",
     "start_time": "2025-02-05T08:19:13.060015Z"
    }
   },
   "source": [
    "import torch\n",
    "from torch import nn\n",
    "from torch.utils import data\n",
    "import matplotlib.pyplot as plt"
   ],
   "outputs": [],
   "execution_count": 57
  },
  {
   "metadata": {},
   "cell_type": "markdown",
   "source": "接下来我们用 `nn` 模块来实现线性回归模型，这相比于[从零开始实现线性回归](../Models/001LinearRegression.ipynb)而言代码上会更简洁，更加利用了PyTorch的特性。",
   "id": "aef5c2eac498c365"
  },
  {
   "metadata": {},
   "cell_type": "markdown",
   "source": "生成人造数据集。",
   "id": "f356c2635a5645fb"
  },
  {
   "metadata": {
    "ExecuteTime": {
     "end_time": "2025-02-05T08:19:13.079978Z",
     "start_time": "2025-02-05T08:19:13.074402Z"
    }
   },
   "cell_type": "code",
   "source": [
    "def synthetic_data(w, b, m, n):\n",
    "    \"\"\"\n",
    "    生成 Y=wX+b+noise \n",
    "    \n",
    "    :param w: weight vector \n",
    "    :param b: bias scalar\n",
    "    :param m: number of samples\n",
    "    :param n: number of features\n",
    "    :return: Y, labels value vector\n",
    "    \"\"\"\n",
    "    # 生成一个期望值为0，方差为1，m*n的input features\n",
    "    X = torch.normal(0, 1, (m, n))\n",
    "    Y = X @ w.reshape(n, 1) + b\n",
    "    \n",
    "    # 噪声\n",
    "    Y += torch.normal(0, 0.1, (m, 1))\n",
    "    \n",
    "    return X, Y.reshape(-1, 1)\n",
    "\n",
    "w = torch.tensor([2, -3.4])\n",
    "b = 4.2\n",
    "features, labels = synthetic_data(w, b, 200, len(w))"
   ],
   "id": "e7a07b30f631d135",
   "outputs": [],
   "execution_count": 58
  },
  {
   "metadata": {},
   "cell_type": "markdown",
   "source": "将数据集集合为Dataset，然后再分为不同的批次。",
   "id": "f707af7cf99a319f"
  },
  {
   "metadata": {
    "ExecuteTime": {
     "end_time": "2025-02-05T08:19:13.084584Z",
     "start_time": "2025-02-05T08:19:13.081817Z"
    }
   },
   "cell_type": "code",
   "source": [
    "dataset = data.TensorDataset(features, labels)\n",
    "dataloader = data.DataLoader(dataset, batch_size=3, shuffle=True)"
   ],
   "id": "954a5ed672896477",
   "outputs": [],
   "execution_count": 59
  },
  {
   "metadata": {},
   "cell_type": "markdown",
   "source": "使用 `nn.Linear` 模块并设定参数，**第一个参数表示输入特征的维度，$m * n$ 中的 $n$，第二个参数表示输出标签的维度**。用 `normal_` , `zero_` 等函数初始化模型的权重和偏差参数。",
   "id": "ae4a22d0108c27cb"
  },
  {
   "metadata": {
    "ExecuteTime": {
     "end_time": "2025-02-05T08:19:13.092246Z",
     "start_time": "2025-02-05T08:19:13.085534Z"
    }
   },
   "cell_type": "code",
   "source": [
    "# 定义神经网络模型，只有线性回归这一层\n",
    "net = nn.Linear(2, 1)\n",
    "\n",
    "# 初始化线性回归模型中的参数\n",
    "net.weight.data.normal_(0, 0.01)\n",
    "net.bias.data.zero_()"
   ],
   "id": "ace138a990bfe65b",
   "outputs": [
    {
     "data": {
      "text/plain": [
       "tensor([0.])"
      ]
     },
     "execution_count": 60,
     "metadata": {},
     "output_type": "execute_result"
    }
   ],
   "execution_count": 60
  },
  {
   "metadata": {},
   "cell_type": "markdown",
   "source": "使用MSE作为计算loss的标准，并且使用Stochastic Gradient Descent (SGD) 作为优化算法。`torch.optim.SGD` 接收两个参数，第一个参数是神经网络中所有的变量，在线性回归中就是权重和偏差；第二个参数就是学习率Learning Rate (lr)。",
   "id": "93015cb28f207ecf"
  },
  {
   "metadata": {
    "ExecuteTime": {
     "end_time": "2025-02-05T08:19:13.097340Z",
     "start_time": "2025-02-05T08:19:13.094062Z"
    }
   },
   "cell_type": "code",
   "source": [
    "loss = nn.MSELoss()\n",
    "optimizer = torch.optim.SGD(net.parameters(), lr=0.01)"
   ],
   "id": "37e6b098150a70a1",
   "outputs": [],
   "execution_count": 61
  },
  {
   "metadata": {},
   "cell_type": "markdown",
   "source": "正式的训练过程。",
   "id": "629cf377e8350f86"
  },
  {
   "metadata": {
    "ExecuteTime": {
     "end_time": "2025-02-05T08:19:13.346448Z",
     "start_time": "2025-02-05T08:19:13.097937Z"
    }
   },
   "cell_type": "code",
   "source": [
    "epochs = 40\n",
    "\n",
    "epoch_history = []\n",
    "loss_history = []\n",
    "\n",
    "for epoch in range(epochs):\n",
    "    for x, y in dataloader:\n",
    "        # 向前传播并计算loss\n",
    "        l = loss(net(x), y)\n",
    "        # 将梯度清零，这一步必须放在backward之前\n",
    "        optimizer.zero_grad()\n",
    "        # 计算梯度\n",
    "        l.backward()\n",
    "        # 更新参数\n",
    "        optimizer.step()\n",
    "    # 计算在新参数下的loss\n",
    "    l = loss(net(features), labels)\n",
    "    print(f'epoch: {epoch + 1}, loss: {l:.10f}')\n",
    "    \n",
    "    epoch_history.append(epoch + 1)\n",
    "    # 将tensor转换为numpy，使用detach().numpy()方法进行转换\n",
    "    loss_history.append(l.detach().numpy())"
   ],
   "id": "bb292e3c37961b1",
   "outputs": [
    {
     "name": "stdout",
     "output_type": "stream",
     "text": [
      "epoch: 1, loss: 1.6236200333\n",
      "epoch: 2, loss: 0.1092376113\n",
      "epoch: 3, loss: 0.0178749934\n",
      "epoch: 4, loss: 0.0108483182\n",
      "epoch: 5, loss: 0.0100123212\n",
      "epoch: 6, loss: 0.0098120281\n",
      "epoch: 7, loss: 0.0097818328\n",
      "epoch: 8, loss: 0.0098103257\n",
      "epoch: 9, loss: 0.0097859846\n",
      "epoch: 10, loss: 0.0097801201\n",
      "epoch: 11, loss: 0.0097808037\n",
      "epoch: 12, loss: 0.0097978543\n",
      "epoch: 13, loss: 0.0097962450\n",
      "epoch: 14, loss: 0.0098202936\n",
      "epoch: 15, loss: 0.0099036684\n",
      "epoch: 16, loss: 0.0097921258\n",
      "epoch: 17, loss: 0.0097829625\n",
      "epoch: 18, loss: 0.0098187933\n",
      "epoch: 19, loss: 0.0097971372\n",
      "epoch: 20, loss: 0.0097836163\n",
      "epoch: 21, loss: 0.0097936597\n",
      "epoch: 22, loss: 0.0097876359\n",
      "epoch: 23, loss: 0.0097963326\n",
      "epoch: 24, loss: 0.0097922748\n",
      "epoch: 25, loss: 0.0097974958\n",
      "epoch: 26, loss: 0.0097915139\n",
      "epoch: 27, loss: 0.0097788647\n",
      "epoch: 28, loss: 0.0097983163\n",
      "epoch: 29, loss: 0.0098025259\n",
      "epoch: 30, loss: 0.0098462775\n",
      "epoch: 31, loss: 0.0098003261\n",
      "epoch: 32, loss: 0.0097861439\n",
      "epoch: 33, loss: 0.0097824605\n",
      "epoch: 34, loss: 0.0098131569\n",
      "epoch: 35, loss: 0.0097929221\n",
      "epoch: 36, loss: 0.0097884824\n",
      "epoch: 37, loss: 0.0097776148\n",
      "epoch: 38, loss: 0.0098020174\n",
      "epoch: 39, loss: 0.0097834710\n",
      "epoch: 40, loss: 0.0097773802\n"
     ]
    }
   ],
   "execution_count": 62
  },
  {
   "metadata": {},
   "cell_type": "markdown",
   "source": "绘制学习曲线 (Learning Curve)。",
   "id": "9d15067f5609fd1b"
  },
  {
   "metadata": {
    "ExecuteTime": {
     "end_time": "2025-02-05T08:19:13.407497Z",
     "start_time": "2025-02-05T08:19:13.347180Z"
    }
   },
   "cell_type": "code",
   "source": [
    "plt.figure()\n",
    "plt.plot(epoch_history, loss_history, label='Learning Curve', color='red')\n",
    "plt.title('Learning Curve')\n",
    "plt.xlabel('Epoch')\n",
    "plt.ylabel('Loss')\n",
    "plt.legend()\n",
    "plt.show()"
   ],
   "id": "25903b92f919580a",
   "outputs": [
    {
     "data": {
      "text/plain": [
       "<Figure size 640x480 with 1 Axes>"
      ],
      "image/png": "[encoded data removed]"
     },
     "metadata": {},
     "output_type": "display_data"
    }
   ],
   "execution_count": 63
  }
 ],
 "metadata": {
  "kernelspec": {
   "display_name": "Python 3",
   "language": "python",
   "name": "python3"
  },
  "language_info": {
   "codemirror_mode": {
    "name": "ipython",
    "version": 2
   },
   "file_extension": ".py",
   "mimetype": "text/x-python",
   "name": "python",
   "nbconvert_exporter": "python",
   "pygments_lexer": "ipython2",
   "version": "2.7.6"
  }
 },
 "nbformat": 4,
 "nbformat_minor": 5
}
