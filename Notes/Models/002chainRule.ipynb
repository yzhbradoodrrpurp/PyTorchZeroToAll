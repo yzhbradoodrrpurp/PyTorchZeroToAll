{
 "cells": [
  {
   "cell_type": "code",
   "id": "initial_id",
   "metadata": {
    "collapsed": true,
    "ExecuteTime": {
     "end_time": "2025-01-26T07:46:17.210460Z",
     "start_time": "2025-01-26T07:46:17.205873Z"
    }
   },
   "source": [
    "import torch\n",
    "from torch.autograd import Variable\n",
    "\n",
    "x = [1, 2, 3]\n",
    "y = [2, 4, 6]\n",
    "\n",
    "w = Variable(torch.tensor([1.0]), requires_grad=True)"
   ],
   "outputs": [],
   "execution_count": 3
  },
  {
   "metadata": {},
   "cell_type": "code",
   "outputs": [],
   "execution_count": null,
   "source": "",
   "id": "9915f6db84144d4c"
  }
 ],
 "metadata": {
  "kernelspec": {
   "display_name": "Python 3",
   "language": "python",
   "name": "python3"
  },
  "language_info": {
   "codemirror_mode": {
    "name": "ipython",
    "version": 2
   },
   "file_extension": ".py",
   "mimetype": "text/x-python",
   "name": "python",
   "nbconvert_exporter": "python",
   "pygments_lexer": "ipython2",
   "version": "2.7.6"
  }
 },
 "nbformat": 4,
 "nbformat_minor": 5
}
