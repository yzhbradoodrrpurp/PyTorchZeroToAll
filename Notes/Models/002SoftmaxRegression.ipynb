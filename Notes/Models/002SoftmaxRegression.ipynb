{
 "cells": [
  {
   "metadata": {},
   "cell_type": "markdown",
   "source": [
    "# Softmax Regression\n",
    "\n",
    "Softmax Regression是逻辑回归的一种，用于进行分类问题。和Sigmoid Regression相比，Softmax可以进行多元分类，而Sigmoid只能进行二元分类。Softmax Regression有多个输出，区别于线性回归中只有一个输出，每个输出表示该样本分类到这个类中的概率。$o_i$表示样本分类到$i$的概率。\n",
    "\n",
    "![Softmax layer](../Images/softmax.png)\n",
    "\n",
    "## Softmax Regression步骤\n",
    "\n",
    "- 有$m * n$大小的特征，$m * k$大小的标签，将其分为k类\n",
    "- 使用Softmax函数得到样本关于每个类的预测值：对于一个n维特征$\\vec{x} = \\begin{bmatrix} x_1 & x_2 & ... & x_n\\end{bmatrix}$，有大小为$n * k$的权重矩阵$\\vec{w}$和大小为$1 * k$的偏差$b$，得到$\\vec{z} = \\vec{x} \\cdot \\vec{w} + \\vec{b}$，$\\vec{z} = \\begin{bmatrix} z_1 & z_2 & ... & z_k\\end{bmatrix}$，对$z_i$进行Softmax归一化：$\\hat{y_i} = \\frac{e^{z_i}}{\\sum_{i=1}^{k}{e^{z_i}}$\n",
    "- 使用交叉熵 (Cross-Entropy Loss) 得到预测与标签的区别：$loss = -\\sum_{i=1}^{k}{y_i \\log{\\hat{y_i}}}$"
   ],
   "id": "6a71cf0c5e4385d2"
  },
  {
   "metadata": {},
   "cell_type": "markdown",
   "source": "导入一些需要用的库。",
   "id": "5c8b94ae87cdb337"
  },
  {
   "cell_type": "code",
   "id": "initial_id",
   "metadata": {
    "collapsed": true,
    "ExecuteTime": {
     "end_time": "2025-02-06T07:21:33.780774Z",
     "start_time": "2025-02-06T07:21:33.772712Z"
    }
   },
   "source": [
    "import torch\n",
    "import torchvision\n",
    "from torch.utils import data\n",
    "from torchvision import transforms"
   ],
   "outputs": [],
   "execution_count": 9
  },
  {
   "metadata": {},
   "cell_type": "markdown",
   "source": [
    "使用 `transforms.ToTensor` 函数将PIL格式的图片转换为tensor格式并完成归一化，将所有数据都编程0～1浮点数范围，便于快速进行梯度下降。PyTorch中默认加载的图像数据是PIL (Python Imaging Library) 格式，但是训练神经网络需要tensor格式的数据。\n",
    "\n",
    "使用 `torchvision.datasets.FashionMNIST` 下载数据集，`root` 表示存储路径，`train` 表示是否为训练集，`download` 表示是否存储到本地，返回的结果是一个Dataset对象。 "
   ],
   "id": "edb95233e327b426"
  },
  {
   "metadata": {
    "ExecuteTime": {
     "end_time": "2025-02-06T07:21:33.876540Z",
     "start_time": "2025-02-06T07:21:33.795863Z"
    }
   },
   "cell_type": "code",
   "source": [
    "# 将PIL格式的图像转换为tensor格式并完成数值归一化，便于后续使用torchvision进行训练\n",
    "trans = transforms.ToTensor()\n",
    "\n",
    "# 从框架中下载训练、测试数据集存储到本地，路径为: ../../Data\n",
    "trainset = torchvision.datasets.FashionMNIST(root='../../Data', train=True, download=True, transform=trans)\n",
    "testset = torchvision.datasets.FashionMNIST(root='../../Data', train=False, download=True, transform=trans)"
   ],
   "id": "6c9ce607cdac0cdd",
   "outputs": [],
   "execution_count": 10
  },
  {
   "metadata": {},
   "cell_type": "markdown",
   "source": "看看训练集和测试集数据是什么情况。",
   "id": "884752dd79934be8"
  },
  {
   "metadata": {
    "ExecuteTime": {
     "end_time": "2025-02-06T07:31:38.121135Z",
     "start_time": "2025-02-06T07:31:38.083368Z"
    }
   },
   "cell_type": "code",
   "source": [
    "print(trainset)\n",
    "print(testset)\n",
    "\n",
    "# 第一个数值表示通道数，第二、三个数值表示高度和宽度\n",
    "print(trainset[0][0].shape)"
   ],
   "id": "ea306109dcf3c620",
   "outputs": [
    {
     "name": "stdout",
     "output_type": "stream",
     "text": [
      "Dataset FashionMNIST\n",
      "    Number of datapoints: 60000\n",
      "    Root location: ../../Data\n",
      "    Split: Train\n",
      "    StandardTransform\n",
      "Transform: ToTensor()\n",
      "Dataset FashionMNIST\n",
      "    Number of datapoints: 10000\n",
      "    Root location: ../../Data\n",
      "    Split: Test\n",
      "    StandardTransform\n",
      "Transform: ToTensor()\n",
      "torch.Size([1, 28, 28])\n"
     ]
    }
   ],
   "execution_count": 17
  },
  {
   "metadata": {
    "ExecuteTime": {
     "end_time": "2025-02-06T07:21:33.883431Z",
     "start_time": "2025-02-06T07:21:33.881793Z"
    }
   },
   "cell_type": "code",
   "source": "",
   "id": "d36dfdef0df927e5",
   "outputs": [],
   "execution_count": 11
  }
 ],
 "metadata": {
  "kernelspec": {
   "display_name": "Python 3",
   "language": "python",
   "name": "python3"
  },
  "language_info": {
   "codemirror_mode": {
    "name": "ipython",
    "version": 2
   },
   "file_extension": ".py",
   "mimetype": "text/x-python",
   "name": "python",
   "nbconvert_exporter": "python",
   "pygments_lexer": "ipython2",
   "version": "2.7.6"
  }
 },
 "nbformat": 4,
 "nbformat_minor": 5
}
