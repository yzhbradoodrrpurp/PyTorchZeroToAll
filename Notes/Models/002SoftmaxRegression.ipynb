{
 "cells": [
  {
   "metadata": {},
   "cell_type": "markdown",
   "source": [
    "# Softmax Regression\n",
    "\n",
    "Softmax Regression是逻辑回归的一种，用于进行分类问题。和Sigmoid Regression相比，Softmax可以进行多元分类，而Sigmoid只能进行二元分类。Softmax Regression有多个输出，区别于线性回归中只有一个输出，每个输出表示该样本分类到这个类中的概率。$o_i$表示样本分类到$i$的概率。\n",
    "\n",
    "![Softmax layer](../Images/softmax.png)\n",
    "\n",
    "## Softmax Regression步骤\n",
    "\n",
    "- 有$m * n$大小的特征，$m * k$大小的标签，将其分为k类\n",
    "- 使用Softmax函数得到样本关于每个类的预测值：对于一个n维特征$\\vec{x} = \\begin{bmatrix} x_1 & x_2 & ... & x_n\\end{bmatrix}$，有大小为$n * k$的权重矩阵$\\vec{w}$和大小为$1 * k$的偏差$b$，得到$\\vec{z} = \\vec{x} \\cdot \\vec{w} + \\vec{b}$，$\\vec{z} = \\begin{bmatrix} z_1 & z_2 & ... & z_k\\end{bmatrix}$，对$z_i$进行Softmax归一化：$\\hat{y_i} = \\frac{e^{z_i}}{\\sum_{i=1}^{k}{e^{z_i}}$\n",
    "- 使用交叉熵 (Cross-Entropy Loss) 得到预测与标签的区别：$loss = -\\sum_{i=1}^{k}{y_i \\log{\\hat{y_i}}}$"
   ],
   "id": "6a71cf0c5e4385d2"
  },
  {
   "cell_type": "code",
   "execution_count": null,
   "id": "initial_id",
   "metadata": {
    "collapsed": true
   },
   "outputs": [],
   "source": [
    ""
   ]
  }
 ],
 "metadata": {
  "kernelspec": {
   "display_name": "Python 3",
   "language": "python",
   "name": "python3"
  },
  "language_info": {
   "codemirror_mode": {
    "name": "ipython",
    "version": 2
   },
   "file_extension": ".py",
   "mimetype": "text/x-python",
   "name": "python",
   "nbconvert_exporter": "python",
   "pygments_lexer": "ipython2",
   "version": "2.7.6"
  }
 },
 "nbformat": 4,
 "nbformat_minor": 5
}
